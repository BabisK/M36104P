{
 "cells": [
  {
   "cell_type": "markdown",
   "metadata": {},
   "source": [
    "# Machine Learning and Computational Statistics"
   ]
  },
  {
   "cell_type": "markdown",
   "metadata": {},
   "source": [
    "## Homework 1"
   ]
  },
  {
   "cell_type": "markdown",
   "metadata": {},
   "source": [
    "### Exercise 1"
   ]
  },
  {
   "cell_type": "markdown",
   "metadata": {},
   "source": [
    "Implement in Python the regularized linear regression model. As an example implementation see the MATLAB functions ml_linregTrain.m and ml_linregTest.m and the associated demo linreg.m that runs the code in data1Tr.txt (used for training) and data1Ts.txt (used for testing)."
   ]
  },
  {
   "cell_type": "markdown",
   "metadata": {},
   "source": [
    "First we import the necessairy libraries:"
   ]
  },
  {
   "cell_type": "code",
   "execution_count": 1,
   "metadata": {
    "collapsed": true
   },
   "outputs": [],
   "source": [
    "import numpy\n",
    "import matplotlib.pyplot as plt\n",
    "%matplotlib inline"
   ]
  },
  {
   "cell_type": "markdown",
   "metadata": {},
   "source": [
    "Now we load the data and split the input from the output:"
   ]
  },
  {
   "cell_type": "code",
   "execution_count": 2,
   "metadata": {
    "collapsed": true
   },
   "outputs": [],
   "source": [
    "train_data = numpy.loadtxt(fname='matlab_code/data1Tr.txt', delimiter=' ')\n",
    "input_data = train_data[:, 0]\n",
    "target_data = train_data[:, 1]"
   ]
  },
  {
   "cell_type": "markdown",
   "metadata": {},
   "source": [
    "We expand the input data by prepending a column with 1s, to accomodate the constant parameter of the linear model:"
   ]
  },
  {
   "cell_type": "code",
   "execution_count": 3,
   "metadata": {
    "collapsed": false
   },
   "outputs": [],
   "source": [
    "(input_rows,) = input_data.shape\n",
    "input_data = numpy.expand_dims(input_data, axis=1)\n",
    "input_data = numpy.insert(input_data, 0, numpy.ones(input_rows), axis=1)\n",
    "(input_rows, input_columns) = input_data.shape"
   ]
  },
  {
   "cell_type": "markdown",
   "metadata": {},
   "source": [
    "For this training we set the lambda parameter to 0"
   ]
  },
  {
   "cell_type": "code",
   "execution_count": 4,
   "metadata": {
    "collapsed": true
   },
   "outputs": [],
   "source": [
    "lamda=0"
   ]
  },
  {
   "cell_type": "markdown",
   "metadata": {},
   "source": [
    "We train the linear model:"
   ]
  },
  {
   "cell_type": "code",
   "execution_count": 5,
   "metadata": {
    "collapsed": false
   },
   "outputs": [],
   "source": [
    "T = numpy.matmul(numpy.transpose(input_data), target_data)\n",
    "K = numpy.matmul(numpy.transpose(input_data), input_data) + lamda*numpy.identity(input_columns)\n",
    "w = numpy.linalg.solve(K, T)\n",
    "y = numpy.dot(input_data,w)\n",
    "beta = input_rows / ((y-target_data)**2).sum()"
   ]
  },
  {
   "cell_type": "markdown",
   "metadata": {},
   "source": [
    "We load the test data:"
   ]
  },
  {
   "cell_type": "code",
   "execution_count": 6,
   "metadata": {
    "collapsed": true
   },
   "outputs": [],
   "source": [
    "test_data = numpy.loadtxt(fname='matlab_code/data1Ts.txt', delimiter=' ')"
   ]
  },
  {
   "cell_type": "markdown",
   "metadata": {},
   "source": [
    "We expand the test data by adding a column of 1s:"
   ]
  },
  {
   "cell_type": "code",
   "execution_count": 7,
   "metadata": {
    "collapsed": false
   },
   "outputs": [],
   "source": [
    "(test_rows,) = test_data.shape\n",
    "test_data = numpy.expand_dims(test_data, axis=1)\n",
    "test_data = numpy.insert(test_data, 0, numpy.ones(test_rows), axis=1)"
   ]
  },
  {
   "cell_type": "markdown",
   "metadata": {},
   "source": [
    "We use the linear model to predict the result:"
   ]
  },
  {
   "cell_type": "code",
   "execution_count": 8,
   "metadata": {
    "collapsed": true
   },
   "outputs": [],
   "source": [
    "y = numpy.dot(test_data, w)\n",
    "var = (1/beta)*numpy.ones(test_rows)"
   ]
  },
  {
   "cell_type": "markdown",
   "metadata": {},
   "source": [
    "Finally we plot the training data (blue) and the fitted model:"
   ]
  },
  {
   "cell_type": "code",
   "execution_count": 9,
   "metadata": {
    "collapsed": false
   },
   "outputs": [
    {
     "data": {
      "image/png": "[encoded data removed]",
      "text/plain": [
       "<matplotlib.figure.Figure at 0x7fbc8998cc50>"
      ]
     },
     "metadata": {},
     "output_type": "display_data"
    }
   ],
   "source": [
    "plt.plot(input_data[:,1], target_data, 'b+')\n",
    "plt.plot(test_data[:,1], y, 'r')\n",
    "plt.plot(test_data[:,1], y-numpy.sqrt(var), 'r--')\n",
    "plt.plot(test_data[:,1], y+numpy.sqrt(var), 'r--')\n",
    "plt.show()"
   ]
  },
  {
   "cell_type": "markdown",
   "metadata": {},
   "source": [
    "### Exercise 2"
   ]
  },
  {
   "cell_type": "markdown",
   "metadata": {},
   "source": [
    "Also, implement in Python the regularized logistic regression model optimized using gradient descent/ascent. As an example implementation see the MATLAB functions ml_logregTrain.m and ml_logregTest.m and the associated demo logreg.m that runs the code in data2Tr.txt (used for training) and data2Ts.txt (used for testing)."
   ]
  },
  {
   "cell_type": "markdown",
   "metadata": {},
   "source": [
    "First we import the necessairy libraries:"
   ]
  },
  {
   "cell_type": "code",
   "execution_count": 10,
   "metadata": {
    "collapsed": true
   },
   "outputs": [],
   "source": [
    "import numpy\n",
    "from scipy.stats import logistic\n",
    "import matplotlib.pyplot as plt\n",
    "%matplotlib inline"
   ]
  },
  {
   "cell_type": "markdown",
   "metadata": {},
   "source": [
    "Now we load the data and split the input from the output:"
   ]
  },
  {
   "cell_type": "code",
   "execution_count": 11,
   "metadata": {
    "collapsed": true
   },
   "outputs": [],
   "source": [
    "train_data = numpy.loadtxt(fname='matlab_code/data2Tr.txt', delimiter=' ')\n",
    "input_data = train_data[:, 0:2]\n",
    "target_data = train_data[:, 2]"
   ]
  },
  {
   "cell_type": "markdown",
   "metadata": {},
   "source": [
    "We expand the input data by prepending a column with 1s, to accomodate the constant parameter of the linear model:"
   ]
  },
  {
   "cell_type": "code",
   "execution_count": 12,
   "metadata": {
    "collapsed": false
   },
   "outputs": [],
   "source": [
    "(input_rows, input_columns) = input_data.shape\n",
    "input_data = numpy.insert(input_data, 0, numpy.ones(input_rows), axis=1)\n",
    "(input_rows, input_columns) = input_data.shape"
   ]
  },
  {
   "cell_type": "markdown",
   "metadata": {},
   "source": [
    "For this training we set the lambda parameter to 0, the iterations to 500, the tolerance to 0.000001 and the learning rate to 8/rows of data:"
   ]
  },
  {
   "cell_type": "code",
   "execution_count": 13,
   "metadata": {
    "collapsed": true
   },
   "outputs": [],
   "source": [
    "lamda = 0\n",
    "iterations = 500\n",
    "tolerance = 0.000001\n",
    "learning_rate = 8/input_rows"
   ]
  },
  {
   "cell_type": "markdown",
   "metadata": {},
   "source": [
    "We initialize w to zero:"
   ]
  },
  {
   "cell_type": "code",
   "execution_count": 14,
   "metadata": {
    "collapsed": false
   },
   "outputs": [],
   "source": [
    "w = numpy.zeros(input_columns)"
   ]
  },
  {
   "cell_type": "markdown",
   "metadata": {},
   "source": [
    "We perform the gradient descent to train the logistic model:"
   ]
  },
  {
   "cell_type": "code",
   "execution_count": 15,
   "metadata": {
    "collapsed": false
   },
   "outputs": [
    {
     "name": "stdout",
     "output_type": "stream",
     "text": [
      "Iteration: 0, Cost function: -27.725887222397812\n",
      "Iteration: 1, Cost function: -24.46629741171427\n",
      "Iteration: 2, Cost function: -22.536511572446166\n",
      "Iteration: 3, Cost function: -22.116229369707966\n",
      "Iteration: 4, Cost function: -23.074381449108436\n",
      "Iteration: 5, Cost function: -25.333748012251945\n",
      "Iteration: 6, Cost function: -24.993065971862258\n",
      "Iteration: 7, Cost function: -24.83529314372842\n",
      "Iteration: 8, Cost function: -21.399105758000168\n",
      "Iteration: 9, Cost function: -19.558810626741632\n",
      "Iteration: 10, Cost function: -16.907541699538584\n",
      "Iteration: 11, Cost function: -15.286912148987991\n",
      "Iteration: 12, Cost function: -13.823184823072973\n",
      "Iteration: 13, Cost function: -12.891475520245148\n",
      "Iteration: 14, Cost function: -12.205873931821333\n",
      "Iteration: 15, Cost function: -11.755709046930185\n",
      "Iteration: 16, Cost function: -11.43186527731044\n",
      "Iteration: 17, Cost function: -11.190401370425883\n",
      "Iteration: 18, Cost function: -10.993102277392426\n",
      "Iteration: 19, Cost function: -10.821655194306189\n",
      "Iteration: 20, Cost function: -10.665837235147063\n",
      "Iteration: 21, Cost function: -10.520898824545558\n",
      "Iteration: 22, Cost function: -10.384464033788623\n",
      "Iteration: 23, Cost function: -10.255273738548059\n",
      "Iteration: 24, Cost function: -10.132524737753672\n",
      "Iteration: 25, Cost function: -10.015620226291011\n",
      "Iteration: 26, Cost function: -9.904066124840753\n",
      "Iteration: 27, Cost function: -9.79743434013918\n",
      "Iteration: 28, Cost function: -9.695345918318427\n",
      "Iteration: 29, Cost function: -9.597462647392963\n",
      "Iteration: 30, Cost function: -9.503481104915682\n",
      "Iteration: 31, Cost function: -9.413128123710235\n",
      "Iteration: 32, Cost function: -9.32615698905208\n",
      "Iteration: 33, Cost function: -9.242344232623978\n",
      "Iteration: 34, Cost function: -9.161486886046692\n",
      "Iteration: 35, Cost function: -9.08340012188575\n",
      "Iteration: 36, Cost function: -9.007915216957212\n",
      "Iteration: 37, Cost function: -8.934877787784234\n",
      "Iteration: 38, Cost function: -8.864146256218973\n",
      "Iteration: 39, Cost function: -8.795590510708447\n",
      "Iteration: 40, Cost function: -8.729090734470164\n",
      "Iteration: 41, Cost function: -8.664536376597114\n",
      "Iteration: 42, Cost function: -8.601825245990796\n",
      "Iteration: 43, Cost function: -8.540862711204177\n",
      "Iteration: 44, Cost function: -8.481560991902828\n",
      "Iteration: 45, Cost function: -8.423838529826515\n",
      "Iteration: 46, Cost function: -8.367619428941463\n",
      "Iteration: 47, Cost function: -8.312832955982106\n",
      "Iteration: 48, Cost function: -8.259413093845186\n",
      "Iteration: 49, Cost function: -8.207298141361434\n",
      "Iteration: 50, Cost function: -8.15643035386647\n",
      "Iteration: 51, Cost function: -8.106755619750944\n",
      "Iteration: 52, Cost function: -8.058223168814031\n",
      "Iteration: 53, Cost function: -8.010785308792663\n",
      "Iteration: 54, Cost function: -7.964397186907257\n",
      "Iteration: 55, Cost function: -7.919016573665788\n",
      "Iteration: 56, Cost function: -7.8746036665125265\n",
      "Iteration: 57, Cost function: -7.831120911204368\n",
      "Iteration: 58, Cost function: -7.788532839053675\n",
      "Iteration: 59, Cost function: -7.746805918398184\n",
      "Iteration: 60, Cost function: -7.705908418850659\n",
      "Iteration: 61, Cost function: -7.665810287048077\n",
      "Iteration: 62, Cost function: -7.626483032765769\n",
      "Iteration: 63, Cost function: -7.5878996243889585\n",
      "Iteration: 64, Cost function: -7.5500343928455695\n",
      "Iteration: 65, Cost function: -7.512862943201544\n",
      "Iteration: 66, Cost function: -7.476362073205745\n",
      "Iteration: 67, Cost function: -7.440509698146878\n",
      "Iteration: 68, Cost function: -7.405284781451455\n",
      "Iteration: 69, Cost function: -7.370667270510548\n",
      "Iteration: 70, Cost function: -7.336638037275158\n",
      "Iteration: 71, Cost function: -7.303178823206062\n",
      "Iteration: 72, Cost function: -7.27027218820505\n",
      "Iteration: 73, Cost function: -7.237901463190818\n",
      "Iteration: 74, Cost function: -7.20605070601524\n",
      "Iteration: 75, Cost function: -7.174704660444746\n",
      "Iteration: 76, Cost function: -7.143848717957354\n",
      "Iteration: 77, Cost function: -7.113468882129043\n",
      "Iteration: 78, Cost function: -7.08355173540397\n",
      "Iteration: 79, Cost function: -7.054084408061577\n",
      "Iteration: 80, Cost function: -7.0250545492103935\n",
      "Iteration: 81, Cost function: -6.996450299653415\n",
      "Iteration: 82, Cost function: -6.968260266483444\n",
      "Iteration: 83, Cost function: -6.940473499279055\n",
      "Iteration: 84, Cost function: -6.913079467782912\n",
      "Iteration: 85, Cost function: -6.886068040954067\n",
      "Iteration: 86, Cost function: -6.859429467295039\n",
      "Iteration: 87, Cost function: -6.8331543563625665\n",
      "Iteration: 88, Cost function: -6.807233661378399\n",
      "Iteration: 89, Cost function: -6.781658662863307\n",
      "Iteration: 90, Cost function: -6.75642095322351\n",
      "Iteration: 91, Cost function: -6.731512422224453\n",
      "Iteration: 92, Cost function: -6.706925243291858\n",
      "Iteration: 93, Cost function: -6.6826518605846665\n",
      "Iteration: 94, Cost function: -6.658684976788744\n",
      "Iteration: 95, Cost function: -6.635017541584075\n",
      "Iteration: 96, Cost function: -6.611642740741736\n",
      "Iteration: 97, Cost function: -6.58855398581017\n",
      "Iteration: 98, Cost function: -6.565744904353291\n",
      "Iteration: 99, Cost function: -6.543209330705684\n",
      "Iteration: 100, Cost function: -6.520941297212579\n",
      "Iteration: 101, Cost function: -6.498935025924771\n",
      "Iteration: 102, Cost function: -6.477184920720557\n",
      "Iteration: 103, Cost function: -6.455685559828896\n",
      "Iteration: 104, Cost function: -6.434431688729661\n",
      "Iteration: 105, Cost function: -6.413418213408624\n",
      "Iteration: 106, Cost function: -6.392640193946237\n",
      "Iteration: 107, Cost function: -6.372092838420748\n",
      "Iteration: 108, Cost function: -6.3517714971074986\n",
      "Iteration: 109, Cost function: -6.331671656957395\n",
      "Iteration: 110, Cost function: -6.31178893633875\n",
      "Iteration: 111, Cost function: -6.292119080027624\n",
      "Iteration: 112, Cost function: -6.272657954432855\n",
      "Iteration: 113, Cost function: -6.253401543042766\n",
      "Iteration: 114, Cost function: -6.234345942081417\n",
      "Iteration: 115, Cost function: -6.215487356363015\n",
      "Iteration: 116, Cost function: -6.1968220953338085\n",
      "Iteration: 117, Cost function: -6.178346569291438\n",
      "Iteration: 118, Cost function: -6.160057285772378\n",
      "Iteration: 119, Cost function: -6.141950846098586\n",
      "Iteration: 120, Cost function: -6.124023942075138\n",
      "Iteration: 121, Cost function: -6.10627335283098\n",
      "Iteration: 122, Cost function: -6.088695941795523\n",
      "Iteration: 123, Cost function: -6.071288653804115\n",
      "Iteration: 124, Cost function: -6.054048512325973\n",
      "Iteration: 125, Cost function: -6.036972616808351\n",
      "Iteration: 126, Cost function: -6.020058140131281\n",
      "Iteration: 127, Cost function: -6.0033023261673595\n",
      "Iteration: 128, Cost function: -5.986702487441485\n",
      "Iteration: 129, Cost function: -5.970256002885716\n",
      "Iteration: 130, Cost function: -5.953960315684643\n",
      "Iteration: 131, Cost function: -5.937812931206977\n",
      "Iteration: 132, Cost function: -5.921811415019248\n",
      "Iteration: 133, Cost function: -5.905953390977794\n",
      "Iteration: 134, Cost function: -5.890236539395339\n",
      "Iteration: 135, Cost function: -5.874658595278737\n",
      "Iteration: 136, Cost function: -5.859217346634601\n",
      "Iteration: 137, Cost function: -5.843910632839724\n",
      "Iteration: 138, Cost function: -5.828736343073347\n",
      "Iteration: 139, Cost function: -5.813692414808491\n",
      "Iteration: 140, Cost function: -5.798776832359744\n",
      "Iteration: 141, Cost function: -5.783987625484946\n",
      "Iteration: 142, Cost function: -5.769322868038467\n",
      "Iteration: 143, Cost function: -5.7547806766737555\n",
      "Iteration: 144, Cost function: -5.740359209593061\n",
      "Iteration: 145, Cost function: -5.7260566653423\n",
      "Iteration: 146, Cost function: -5.711871281649089\n",
      "Iteration: 147, Cost function: -5.697801334302169\n",
      "Iteration: 148, Cost function: -5.683845136070419\n",
      "Iteration: 149, Cost function: -5.670001035659836\n",
      "Iteration: 150, Cost function: -5.656267416706882\n",
      "Iteration: 151, Cost function: -5.642642696806698\n",
      "Iteration: 152, Cost function: -5.629125326574735\n",
      "Iteration: 153, Cost function: -5.615713788740491\n",
      "Iteration: 154, Cost function: -5.602406597271958\n",
      "Iteration: 155, Cost function: -5.58920229652965\n",
      "Iteration: 156, Cost function: -5.576099460448934\n",
      "Iteration: 157, Cost function: -5.5630966917496005\n",
      "Iteration: 158, Cost function: -5.5501926211715595\n",
      "Iteration: 159, Cost function: -5.5373859067356594\n",
      "Iteration: 160, Cost function: -5.524675233028628\n",
      "Iteration: 161, Cost function: -5.512059310511223\n",
      "Iteration: 162, Cost function: -5.499536874848674\n",
      "Iteration: 163, Cost function: -5.487106686262573\n",
      "Iteration: 164, Cost function: -5.474767528903402\n",
      "Iteration: 165, Cost function: -5.462518210242909\n",
      "Iteration: 166, Cost function: -5.450357560485587\n",
      "Iteration: 167, Cost function: -5.438284431998543\n",
      "Iteration: 168, Cost function: -5.426297698759067\n",
      "Iteration: 169, Cost function: -5.414396255819281\n",
      "Iteration: 170, Cost function: -5.402579018787165\n",
      "Iteration: 171, Cost function: -5.390844923323469\n",
      "Iteration: 172, Cost function: -5.379192924653834\n",
      "Iteration: 173, Cost function: -5.367621997095631\n",
      "Iteration: 174, Cost function: -5.356131133598986\n",
      "Iteration: 175, Cost function: -5.344719345301451\n",
      "Iteration: 176, Cost function: -5.333385661095895\n",
      "Iteration: 177, Cost function: -5.322129127211081\n",
      "Iteration: 178, Cost function: -5.310948806804548\n",
      "Iteration: 179, Cost function: -5.299843779567323\n",
      "Iteration: 180, Cost function: -5.288813141340071\n",
      "Iteration: 181, Cost function: -5.277856003740311\n",
      "Iteration: 182, Cost function: -5.266971493800265\n",
      "Iteration: 183, Cost function: -5.256158753615036\n",
      "Iteration: 184, Cost function: -5.245416940000723\n",
      "Iteration: 185, Cost function: -5.234745224162157\n",
      "Iteration: 186, Cost function: -5.2241427913699505\n",
      "Iteration: 187, Cost function: -5.213608840646499\n",
      "Iteration: 188, Cost function: -5.203142584460709\n",
      "Iteration: 189, Cost function: -5.192743248431096\n",
      "Iteration: 190, Cost function: -5.182410071037024\n",
      "Iteration: 191, Cost function: -5.172142303337812\n",
      "Iteration: 192, Cost function: -5.161939208699438\n",
      "Iteration: 193, Cost function: -5.151800062528599\n",
      "Iteration: 194, Cost function: -5.141724152013915\n",
      "Iteration: 195, Cost function: -5.131710775874012\n",
      "Iteration: 196, Cost function: -5.121759244112287\n",
      "Iteration: 197, Cost function: -5.111868877778152\n",
      "Iteration: 198, Cost function: -5.1020390087345335\n",
      "Iteration: 199, Cost function: -5.092268979431432\n",
      "Iteration: 200, Cost function: -5.082558142685381\n",
      "Iteration: 201, Cost function: -5.072905861464589\n",
      "Iteration: 202, Cost function: -5.0633115086795994\n",
      "Iteration: 203, Cost function: -5.053774466979327\n",
      "Iteration: 204, Cost function: -5.044294128552258\n",
      "Iteration: 205, Cost function: -5.034869894932687\n",
      "Iteration: 206, Cost function: -5.0255011768118605\n",
      "Iteration: 207, Cost function: -5.016187393853814\n",
      "Iteration: 208, Cost function: -5.006927974515836\n",
      "Iteration: 209, Cost function: -4.997722355873361\n",
      "Iteration: 210, Cost function: -4.988569983449214\n",
      "Iteration: 211, Cost function: -4.979470311047022\n",
      "Iteration: 212, Cost function: -4.9704228005887225\n",
      "Iteration: 213, Cost function: -4.961426921956021\n",
      "Iteration: 214, Cost function: -4.952482152835676\n",
      "Iteration: 215, Cost function: -4.9435879785685355\n",
      "Iteration: 216, Cost function: -4.934743892002166\n",
      "Iteration: 217, Cost function: -4.925949393347037\n",
      "Iteration: 218, Cost function: -4.9172039900360875\n",
      "Iteration: 219, Cost function: -4.908507196587639\n",
      "Iteration: 220, Cost function: -4.899858534471519\n",
      "Iteration: 221, Cost function: -4.891257531978335\n",
      "Iteration: 222, Cost function: -4.8827037240917885\n",
      "Iteration: 223, Cost function: -4.874196652363955\n",
      "Iteration: 224, Cost function: -4.865735864793448\n",
      "Iteration: 225, Cost function: -4.857320915706391\n",
      "Iteration: 226, Cost function: -4.848951365640099\n",
      "Iteration: 227, Cost function: -4.840626781229428\n",
      "Iteration: 228, Cost function: -4.832346735095697\n",
      "Iteration: 229, Cost function: -4.824110805738119\n",
      "Iteration: 230, Cost function: -4.81591857742767\n",
      "Iteration: 231, Cost function: -4.807769640103352\n",
      "Iteration: 232, Cost function: -4.799663589270735\n",
      "Iteration: 233, Cost function: -4.791600025902788\n",
      "Iteration: 234, Cost function: -4.783578556342876\n",
      "Iteration: 235, Cost function: -4.7755987922099\n",
      "Iteration: 236, Cost function: -4.76766035030551\n",
      "Iteration: 237, Cost function: -4.759762852523352\n",
      "Iteration: 238, Cost function: -4.751905925760275\n",
      "Iteration: 239, Cost function: -4.744089201829459\n",
      "Iteration: 240, Cost function: -4.736312317375419\n",
      "Iteration: 241, Cost function: -4.728574913790823\n",
      "Iteration: 242, Cost function: -4.720876637135097\n",
      "Iteration: 243, Cost function: -4.713217138054745\n",
      "Iteration: 244, Cost function: -4.705596071705372\n",
      "Iteration: 245, Cost function: -4.698013097675337\n",
      "Iteration: 246, Cost function: -4.69046787991101\n",
      "Iteration: 247, Cost function: -4.682960086643603\n",
      "Iteration: 248, Cost function: -4.675489390317515\n",
      "Iteration: 249, Cost function: -4.668055467520158\n",
      "Iteration: 250, Cost function: -4.660657998913241\n",
      "Iteration: 251, Cost function: -4.6532966691654645\n",
      "Iteration: 252, Cost function: -4.6459711668865875\n",
      "Iteration: 253, Cost function: -4.638681184562846\n",
      "Iteration: 254, Cost function: -4.631426418493683\n",
      "Iteration: 255, Cost function: -4.624206568729752\n",
      "Iteration: 256, Cost function: -4.617021339012181\n",
      "Iteration: 257, Cost function: -4.609870436713034\n",
      "Iteration: 258, Cost function: -4.602753572776999\n",
      "Iteration: 259, Cost function: -4.595670461664192\n",
      "Iteration: 260, Cost function: -4.588620821294139\n",
      "Iteration: 261, Cost function: -4.581604372990828\n",
      "Iteration: 262, Cost function: -4.574620841428866\n",
      "Iteration: 263, Cost function: -4.567669954580688\n",
      "Iteration: 264, Cost function: -4.560751443664779\n",
      "Iteration: 265, Cost function: -4.553865043094932\n",
      "Iteration: 266, Cost function: -4.5470104904304645\n",
      "Iteration: 267, Cost function: -4.540187526327401\n",
      "Iteration: 268, Cost function: -4.533395894490617\n",
      "Iteration: 269, Cost function: -4.526635341626855\n",
      "Iteration: 270, Cost function: -4.5199056173986865\n",
      "Iteration: 271, Cost function: -4.513206474379305\n",
      "Iteration: 272, Cost function: -4.506537668008211\n",
      "Iteration: 273, Cost function: -4.499898956547714\n",
      "Iteration: 274, Cost function: -4.49329010104025\n",
      "Iteration: 275, Cost function: -4.486710865266513\n",
      "Iteration: 276, Cost function: -4.480161015704348\n",
      "Iteration: 277, Cost function: -4.473640321488434\n",
      "Iteration: 278, Cost function: -4.467148554370679\n",
      "Iteration: 279, Cost function: -4.4606854886813885\n",
      "Iteration: 280, Cost function: -4.454250901291111\n",
      "Iteration: 281, Cost function: -4.447844571573196\n",
      "Iteration: 282, Cost function: -4.4414662813670365\n",
      "Iteration: 283, Cost function: -4.435115814941993\n",
      "Iteration: 284, Cost function: -4.428792958961939\n",
      "Iteration: 285, Cost function: -4.422497502450479\n",
      "Iteration: 286, Cost function: -4.41622923675677\n",
      "Iteration: 287, Cost function: -4.409987955521975\n",
      "Iteration: 288, Cost function: -4.403773454646292\n",
      "Iteration: 289, Cost function: -4.397585532256601\n",
      "Iteration: 290, Cost function: -4.391423988674648\n",
      "Iteration: 291, Cost function: -4.3852886263858295\n",
      "Iteration: 292, Cost function: -4.3791792500084945\n",
      "Iteration: 293, Cost function: -4.373095666263812\n",
      "Iteration: 294, Cost function: -4.3670376839461404\n",
      "Iteration: 295, Cost function: -4.361005113893935\n",
      "Iteration: 296, Cost function: -4.354997768961148\n",
      "Iteration: 297, Cost function: -4.349015463989133\n",
      "Iteration: 298, Cost function: -4.343058015779025\n",
      "Iteration: 299, Cost function: -4.337125243064599\n",
      "Iteration: 300, Cost function: -4.331216966485602\n",
      "Iteration: 301, Cost function: -4.325333008561518\n",
      "Iteration: 302, Cost function: -4.319473193665815\n",
      "Iteration: 303, Cost function: -4.31363734800059\n",
      "Iteration: 304, Cost function: -4.307825299571681\n",
      "Iteration: 305, Cost function: -4.302036878164154\n",
      "Iteration: 306, Cost function: -4.2962719153182505\n",
      "Iteration: 307, Cost function: -4.290530244305704\n",
      "Iteration: 308, Cost function: -4.2848117001064585\n",
      "Iteration: 309, Cost function: -4.279116119385781\n",
      "Iteration: 310, Cost function: -4.2734433404717596\n",
      "Iteration: 311, Cost function: -4.2677932033331425\n",
      "Iteration: 312, Cost function: -4.262165549557585\n",
      "Iteration: 313, Cost function: -4.256560222330219\n",
      "Iteration: 314, Cost function: -4.250977066412587\n",
      "Iteration: 315, Cost function: -4.245415928121934\n",
      "Iteration: 316, Cost function: -4.2398766553107965\n",
      "Iteration: 317, Cost function: -4.234359097346971\n",
      "Iteration: 318, Cost function: -4.228863105093762\n",
      "Iteration: 319, Cost function: -4.223388530890583\n",
      "Iteration: 320, Cost function: -4.217935228533851\n",
      "Iteration: 321, Cost function: -4.212503053258187\n",
      "Iteration: 322, Cost function: -4.207091861717917\n",
      "Iteration: 323, Cost function: -4.201701511968883\n",
      "Iteration: 324, Cost function: -4.196331863450508\n",
      "Iteration: 325, Cost function: -4.190982776968186\n",
      "Iteration: 326, Cost function: -4.18565411467592\n",
      "Iteration: 327, Cost function: -4.180345740059238\n",
      "Iteration: 328, Cost function: -4.1750575179183915\n",
      "Iteration: 329, Cost function: -4.169789314351794\n",
      "Iteration: 330, Cost function: -4.164540996739737\n",
      "Iteration: 331, Cost function: -4.159312433728339\n",
      "Iteration: 332, Cost function: -4.1541034952137705\n",
      "Iteration: 333, Cost function: -4.148914052326695\n",
      "Iteration: 334, Cost function: -4.143743977416955\n",
      "Iteration: 335, Cost function: -4.138593144038514\n",
      "Iteration: 336, Cost function: -4.133461426934593\n",
      "Iteration: 337, Cost function: -4.12834870202307\n",
      "Iteration: 338, Cost function: -4.1232548463820775\n",
      "Iteration: 339, Cost function: -4.11817973823582\n",
      "Iteration: 340, Cost function: -4.113123256940619\n",
      "Iteration: 341, Cost function: -4.108085282971151\n",
      "Iteration: 342, Cost function: -4.103065697906915\n",
      "Iteration: 343, Cost function: -4.09806438441887\n",
      "Iteration: 344, Cost function: -4.093081226256306\n",
      "Iteration: 345, Cost function: -4.088116108233887\n",
      "Iteration: 346, Cost function: -4.083168916218893\n",
      "Iteration: 347, Cost function: -4.07823953711866\n",
      "Iteration: 348, Cost function: -4.073327858868188\n",
      "Iteration: 349, Cost function: -4.068433770417949\n",
      "Iteration: 350, Cost function: -4.063557161721853\n",
      "Iteration: 351, Cost function: -4.058697923725424\n",
      "Iteration: 352, Cost function: -4.053855948354095\n",
      "Iteration: 353, Cost function: -4.049031128501742\n",
      "Iteration: 354, Cost function: -4.044223358019318\n",
      "Iteration: 355, Cost function: -4.039432531703694\n",
      "Iteration: 356, Cost function: -4.034658545286645\n",
      "Iteration: 357, Cost function: -4.029901295424\n",
      "Iteration: 358, Cost function: -4.025160679684941\n",
      "Iteration: 359, Cost function: -4.020436596541458\n",
      "Iteration: 360, Cost function: -4.015728945357962\n",
      "Iteration: 361, Cost function: -4.01103762638103\n",
      "Iteration: 362, Cost function: -4.00636254072931\n",
      "Iteration: 363, Cost function: -4.001703590383562\n",
      "Iteration: 364, Cost function: -3.9970606781768376\n",
      "Iteration: 365, Cost function: -3.992433707784804\n",
      "Iteration: 366, Cost function: -3.987822583716205\n",
      "Iteration: 367, Cost function: -3.9832272113034386\n",
      "Iteration: 368, Cost function: -3.978647496693285\n",
      "Iteration: 369, Cost function: -3.974083346837762\n",
      "Iteration: 370, Cost function: -3.96953466948509\n",
      "Iteration: 371, Cost function: -3.965001373170808\n",
      "Iteration: 372, Cost function: -3.960483367208986\n",
      "Iteration: 373, Cost function: -3.9559805616835813\n",
      "Iteration: 374, Cost function: -3.951492867439894\n",
      "Iteration: 375, Cost function: -3.9470201960761533\n",
      "Iteration: 376, Cost function: -3.942562459935212\n",
      "Iteration: 377, Cost function: -3.938119572096357\n",
      "Iteration: 378, Cost function: -3.9336914463672303\n",
      "Iteration: 379, Cost function: -3.929277997275855\n",
      "Iteration: 380, Cost function: -3.9248791400627807\n",
      "Iteration: 381, Cost function: -3.920494790673316\n",
      "Iteration: 382, Cost function: -3.9161248657498913\n",
      "Iteration: 383, Cost function: -3.911769282624491\n",
      "Iteration: 384, Cost function: -3.9074279593112227\n",
      "Iteration: 385, Cost function: -3.9031008144989547\n",
      "Iteration: 386, Cost function: -3.8987877675440714\n",
      "Iteration: 387, Cost function: -3.894488738463317\n",
      "Iteration: 388, Cost function: -3.890203647926733\n",
      "Iteration: 389, Cost function: -3.8859324172506895\n",
      "Iteration: 390, Cost function: -3.8816749683910183\n",
      "Iteration: 391, Cost function: -3.877431223936213\n",
      "Iteration: 392, Cost function: -3.8732011071007455\n",
      "Iteration: 393, Cost function: -3.8689845417184503\n",
      "Iteration: 394, Cost function: -3.864781452236002\n",
      "Iteration: 395, Cost function: -3.8605917637064806\n",
      "Iteration: 396, Cost function: -3.8564154017830097\n",
      "Iteration: 397, Cost function: -3.8522522927124934\n",
      "Iteration: 398, Cost function: -3.8481023633294185\n",
      "Iteration: 399, Cost function: -3.843965541049744\n",
      "Iteration: 400, Cost function: -3.8398417538648646\n",
      "Iteration: 401, Cost function: -3.8357309303356626\n",
      "Iteration: 402, Cost function: -3.8316329995866214\n",
      "Iteration: 403, Cost function: -3.8275478913000196\n",
      "Iteration: 404, Cost function: -3.8234755357102044\n",
      "Iteration: 405, Cost function: -3.8194158635979303\n",
      "Iteration: 406, Cost function: -3.815368806284769\n",
      "Iteration: 407, Cost function: -3.8113342956275997\n",
      "Iteration: 408, Cost function: -3.807312264013156\n",
      "Iteration: 409, Cost function: -3.8033026443526494\n",
      "Iteration: 410, Cost function: -3.799305370076457\n",
      "Iteration: 411, Cost function: -3.795320375128877\n",
      "Iteration: 412, Cost function: -3.7913475939629535\n",
      "Iteration: 413, Cost function: -3.787386961535349\n",
      "Iteration: 414, Cost function: -3.783438413301306\n",
      "Iteration: 415, Cost function: -3.7795018852096525\n",
      "Iteration: 416, Cost function: -3.775577313697868\n",
      "Iteration: 417, Cost function: -3.771664635687232\n",
      "Iteration: 418, Cost function: -3.767763788577999\n",
      "Iteration: 419, Cost function: -3.7638747102446644\n",
      "Iteration: 420, Cost function: -3.7599973390312615\n",
      "Iteration: 421, Cost function: -3.7561316137467453\n",
      "Iteration: 422, Cost function: -3.752277473660399\n",
      "Iteration: 423, Cost function: -3.7484348584973235\n",
      "Iteration: 424, Cost function: -3.7446037084339654\n",
      "Iteration: 425, Cost function: -3.74078396409371\n",
      "Iteration: 426, Cost function: -3.736975566542519\n",
      "Iteration: 427, Cost function: -3.7331784572846236\n",
      "Iteration: 428, Cost function: -3.7293925782582744\n",
      "Iteration: 429, Cost function: -3.7256178718315285\n",
      "Iteration: 430, Cost function: -3.721854280798106\n",
      "Iteration: 431, Cost function: -3.718101748373276\n",
      "Iteration: 432, Cost function: -3.7143602181898125\n",
      "Iteration: 433, Cost function: -3.710629634293973\n",
      "Iteration: 434, Cost function: -3.7069099411415554\n",
      "Iteration: 435, Cost function: -3.7032010835939717\n",
      "Iteration: 436, Cost function: -3.699503006914381\n",
      "Iteration: 437, Cost function: -3.6958156567638842\n",
      "Iteration: 438, Cost function: -3.6921389791977264\n",
      "Iteration: 439, Cost function: -3.688472920661577\n",
      "Iteration: 440, Cost function: -3.6848174279878383\n",
      "Iteration: 441, Cost function: -3.681172448391999\n",
      "Iteration: 442, Cost function: -3.677537929469032\n",
      "Iteration: 443, Cost function: -3.6739138191898313\n",
      "Iteration: 444, Cost function: -3.6703000658976905\n",
      "Iteration: 445, Cost function: -3.66669661830483\n",
      "Iteration: 446, Cost function: -3.6631034254889454\n",
      "Iteration: 447, Cost function: -3.6595204368898218\n",
      "Iteration: 448, Cost function: -3.6559476023059565\n",
      "Iteration: 449, Cost function: -3.6523848718912544\n",
      "Iteration: 450, Cost function: -3.648832196151727\n",
      "Iteration: 451, Cost function: -3.645289525942256\n",
      "Iteration: 452, Cost function: -3.6417568124633806\n",
      "Iteration: 453, Cost function: -3.638234007258115\n",
      "Iteration: 454, Cost function: -3.6347210622088273\n",
      "Iteration: 455, Cost function: -3.6312179295341247\n",
      "Iteration: 456, Cost function: -3.6277245617857843\n",
      "Iteration: 457, Cost function: -3.6242409118457317\n",
      "Iteration: 458, Cost function: -3.620766932923032\n",
      "Iteration: 459, Cost function: -3.6173025785509285\n",
      "Iteration: 460, Cost function: -3.6138478025839085\n",
      "Iteration: 461, Cost function: -3.6104025591948075\n",
      "Iteration: 462, Cost function: -3.6069668028719395\n",
      "Iteration: 463, Cost function: -3.603540488416259\n",
      "Iteration: 464, Cost function: -3.6001235709385644\n",
      "Iteration: 465, Cost function: -3.5967160058567176\n",
      "Iteration: 466, Cost function: -3.5933177488929062\n",
      "Iteration: 467, Cost function: -3.589928756070928\n",
      "Iteration: 468, Cost function: -3.5865489837135165\n",
      "Iteration: 469, Cost function: -3.583178388439673\n",
      "Iteration: 470, Cost function: -3.57981692716206\n",
      "Iteration: 471, Cost function: -3.5764645570843943\n",
      "Iteration: 472, Cost function: -3.573121235698884\n",
      "Iteration: 473, Cost function: -3.56978692078369\n",
      "Iteration: 474, Cost function: -3.566461570400414\n",
      "Iteration: 475, Cost function: -3.5631451428916123\n",
      "Iteration: 476, Cost function: -3.5598375968783427\n",
      "Iteration: 477, Cost function: -3.5565388912577283\n",
      "Iteration: 478, Cost function: -3.5532489852005575\n",
      "Iteration: 479, Cost function: -3.549967838148901\n",
      "Iteration: 480, Cost function: -3.5466954098137657\n",
      "Iteration: 481, Cost function: -3.5434316601727534\n",
      "Iteration: 482, Cost function: -3.5401765494677724\n",
      "Iteration: 483, Cost function: -3.5369300382027435\n",
      "Iteration: 484, Cost function: -3.533692087141363\n",
      "Iteration: 485, Cost function: -3.5304626573048568\n",
      "Iteration: 486, Cost function: -3.527241709969777\n",
      "Iteration: 487, Cost function: -3.524029206665826\n",
      "Iteration: 488, Cost function: -3.5208251091736846\n",
      "Iteration: 489, Cost function: -3.5176293795228815\n",
      "Iteration: 490, Cost function: -3.514441979989675\n",
      "Iteration: 491, Cost function: -3.5112628730949584\n",
      "Iteration: 492, Cost function: -3.508092021602196\n",
      "Iteration: 493, Cost function: -3.5049293885153614\n",
      "Iteration: 494, Cost function: -3.5017749370769162\n",
      "Iteration: 495, Cost function: -3.4986286307658037\n",
      "Iteration: 496, Cost function: -3.4954904332954584\n",
      "Iteration: 497, Cost function: -3.492360308611844\n",
      "Iteration: 498, Cost function: -3.4892382208915036\n",
      "Iteration: 499, Cost function: -3.486124134539636\n"
     ]
    }
   ],
   "source": [
    "ew_old = -numpy.inf\n",
    "for i in range(iterations):\n",
    "    yx = numpy.dot(input_data, w)\n",
    "    s = logistic.cdf(yx)\n",
    "    \n",
    "    ew = (target_data*numpy.log(s) + (1-target_data)*numpy.log(1-s)).sum() - (0.5*lamda)*(numpy.matmul(numpy.transpose(w), w))\n",
    "    print('Iteration: {}, Cost function: {}'.format(i, ew));\n",
    "    \n",
    "    if abs(ew - ew_old) < tolerance:\n",
    "        break;\n",
    "    \n",
    "    gradient = numpy.matmul(numpy.transpose(input_data), target_data-s) - lamda*w\n",
    "    \n",
    "    w = w + learning_rate*gradient\n",
    "    ew_old = ew"
   ]
  },
  {
   "cell_type": "markdown",
   "metadata": {},
   "source": [
    "We load the test data:"
   ]
  },
  {
   "cell_type": "code",
   "execution_count": 16,
   "metadata": {
    "collapsed": true
   },
   "outputs": [],
   "source": [
    "test_data = numpy.loadtxt(fname='matlab_code/data2Ts.txt', delimiter=' ')"
   ]
  },
  {
   "cell_type": "markdown",
   "metadata": {},
   "source": [
    "We expand the test data by adding a column of 1s:"
   ]
  },
  {
   "cell_type": "code",
   "execution_count": 17,
   "metadata": {
    "collapsed": true
   },
   "outputs": [],
   "source": [
    "(test_rows, test_columns) = test_data.shape\n",
    "test_data = numpy.insert(test_data, 0, numpy.ones(test_rows), axis=1)\n",
    "(test_rows, test_columns) = test_data.shape"
   ]
  },
  {
   "cell_type": "markdown",
   "metadata": {},
   "source": [
    "We use the linear model to predict the result and the class:"
   ]
  },
  {
   "cell_type": "code",
   "execution_count": 18,
   "metadata": {
    "collapsed": false
   },
   "outputs": [],
   "source": [
    "res = logistic.cdf(numpy.dot(test_data,w))\n",
    "out_class = numpy.around(y)"
   ]
  },
  {
   "cell_type": "markdown",
   "metadata": {},
   "source": [
    "On the plot bellow we present the training data and the decision boundaries:"
   ]
  },
  {
   "cell_type": "code",
   "execution_count": 19,
   "metadata": {
    "collapsed": false
   },
   "outputs": [
    {
     "data": {
      "image/png": "[encoded data removed]",
      "text/plain": [
       "<matplotlib.figure.Figure at 0x7fbc7f75b198>"
      ]
     },
     "metadata": {},
     "output_type": "display_data"
    }
   ],
   "source": [
    "plt.plot(input_data[target_data==0,1], input_data[target_data==0,2], 'ro')\n",
    "plt.plot(input_data[target_data==1,1], input_data[target_data==1,2], 'bo')\n",
    "minX = min(input_data[:, 1]); \n",
    "maxX = max(input_data[:, 1]);\n",
    "plt.plot((minX, maxX), (-w[0]/w[2] - ((w[1]/w[2])*minX), -w[0]/w[2] - ((w[1]/w[2])*maxX)), 'k')\n",
    "plt.plot((minX, maxX), (-numpy.log(0.9/0.1)/w[2] - w[0]/w[2] - ((w[1]/w[2])*minX), -numpy.log(0.9/0.1)/w[2] - w[0]/w[2] - ((w[1]/w[2])*maxX)), 'k--')\n",
    "plt.plot((minX, maxX), (-numpy.log(0.1/0.9)/w[2] - w[0]/w[2] - ((w[1]/w[2])*minX), -numpy.log(0.1/0.9)/w[2] - w[0]/w[2] - ((w[1]/w[2])*maxX)), 'k--')\n",
    "plt.show()"
   ]
  },
  {
   "cell_type": "markdown",
   "metadata": {},
   "source": [
    "On the second plot we present the propabilities on the test data. The more mixed the color is, the closer the propability is to 0.5:"
   ]
  },
  {
   "cell_type": "code",
   "execution_count": 20,
   "metadata": {
    "collapsed": false
   },
   "outputs": [
    {
     "data": {
      "text/plain": [
       "<matplotlib.collections.PathCollection at 0x7fbc89952d30>"
      ]
     },
     "execution_count": 20,
     "metadata": {},
     "output_type": "execute_result"
    },
    {
     "data": {
      "image/png": "[encoded data removed]",
      "text/plain": [
       "<matplotlib.figure.Figure at 0x7fbc898f10f0>"
      ]
     },
     "metadata": {},
     "output_type": "display_data"
    }
   ],
   "source": [
    " plt.scatter(test_data[:, 1], test_data[:, 2], c=res, cmap='cool_r')"
   ]
  }
 ],
 "metadata": {
  "kernelspec": {
   "display_name": "Python 3",
   "language": "python",
   "name": "python3"
  },
  "language_info": {
   "codemirror_mode": {
    "name": "ipython",
    "version": 3
   },
   "file_extension": ".py",
   "mimetype": "text/x-python",
   "name": "python",
   "nbconvert_exporter": "python",
   "pygments_lexer": "ipython3",
   "version": "3.5.1"
  }
 },
 "nbformat": 4,
 "nbformat_minor": 0
}
